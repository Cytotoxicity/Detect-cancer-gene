{
  "nbformat": 4,
  "nbformat_minor": 0,
  "metadata": {
    "colab": {
      "name": "Untitled3.ipynb",
      "provenance": [],
      "collapsed_sections": []
    },
    "kernelspec": {
      "name": "python3",
      "display_name": "Python 3"
    }
  },
  "cells": [
    {
      "cell_type": "code",
      "metadata": {
        "colab": {
          "base_uri": "https://localhost:8080/"
        },
        "id": "1OKdperVV1vM",
        "outputId": "8a222874-ebae-4812-9e1c-86f945b5a8fb"
      },
      "source": [
        "from google.colab import drive\r\n",
        "drive.mount('/content/drive')"
      ],
      "execution_count": 1,
      "outputs": [
        {
          "output_type": "stream",
          "text": [
            "Drive already mounted at /content/drive; to attempt to forcibly remount, call drive.mount(\"/content/drive\", force_remount=True).\n"
          ],
          "name": "stdout"
        }
      ]
    },
    {
      "cell_type": "code",
      "metadata": {
        "id": "JRvnAmNmWYZV"
      },
      "source": [
        "import pandas as pd\r\n",
        "import numpy as np\r\n",
        "from sklearn.cluster import DBSCAN"
      ],
      "execution_count": 2,
      "outputs": []
    },
    {
      "cell_type": "code",
      "metadata": {
        "colab": {
          "base_uri": "https://localhost:8080/",
          "height": 419
        },
        "id": "8bKf8Uu1W_tt",
        "outputId": "c2abba48-80b3-42b3-d2a8-2d11997fc7ef"
      },
      "source": [
        "rna = pd.read_excel('/content/drive/My Drive/RNA.xlsx')\r\n",
        "rna"
      ],
      "execution_count": 20,
      "outputs": [
        {
          "output_type": "execute_result",
          "data": {
            "text/html": [
              "<div>\n",
              "<style scoped>\n",
              "    .dataframe tbody tr th:only-of-type {\n",
              "        vertical-align: middle;\n",
              "    }\n",
              "\n",
              "    .dataframe tbody tr th {\n",
              "        vertical-align: top;\n",
              "    }\n",
              "\n",
              "    .dataframe thead th {\n",
              "        text-align: right;\n",
              "    }\n",
              "</style>\n",
              "<table border=\"1\" class=\"dataframe\">\n",
              "  <thead>\n",
              "    <tr style=\"text-align: right;\">\n",
              "      <th></th>\n",
              "      <th>GENE_NAME</th>\n",
              "      <th>정상세포</th>\n",
              "      <th>암세포</th>\n",
              "    </tr>\n",
              "  </thead>\n",
              "  <tbody>\n",
              "    <tr>\n",
              "      <th>0</th>\n",
              "      <td>SNORD121B</td>\n",
              "      <td>1.000000e-08</td>\n",
              "      <td>1.000000e-08</td>\n",
              "    </tr>\n",
              "    <tr>\n",
              "      <th>1</th>\n",
              "      <td>HTR4</td>\n",
              "      <td>1.000000e-08</td>\n",
              "      <td>6.330350e-03</td>\n",
              "    </tr>\n",
              "    <tr>\n",
              "      <th>2</th>\n",
              "      <td>SNORD121A</td>\n",
              "      <td>1.000000e-08</td>\n",
              "      <td>1.000000e-08</td>\n",
              "    </tr>\n",
              "    <tr>\n",
              "      <th>3</th>\n",
              "      <td>HTR6</td>\n",
              "      <td>1.000000e-08</td>\n",
              "      <td>1.968280e-02</td>\n",
              "    </tr>\n",
              "    <tr>\n",
              "      <th>4</th>\n",
              "      <td>HTR7</td>\n",
              "      <td>2.464120e+00</td>\n",
              "      <td>2.456550e+00</td>\n",
              "    </tr>\n",
              "    <tr>\n",
              "      <th>...</th>\n",
              "      <td>...</td>\n",
              "      <td>...</td>\n",
              "      <td>...</td>\n",
              "    </tr>\n",
              "    <tr>\n",
              "      <th>56834</th>\n",
              "      <td>AC113146.1</td>\n",
              "      <td>1.000000e-08</td>\n",
              "      <td>1.000000e-08</td>\n",
              "    </tr>\n",
              "    <tr>\n",
              "      <th>56835</th>\n",
              "      <td>AC005912.2</td>\n",
              "      <td>5.288690e-02</td>\n",
              "      <td>3.188250e-02</td>\n",
              "    </tr>\n",
              "    <tr>\n",
              "      <th>56836</th>\n",
              "      <td>AC005912.1</td>\n",
              "      <td>7.473340e+00</td>\n",
              "      <td>1.857000e+00</td>\n",
              "    </tr>\n",
              "    <tr>\n",
              "      <th>56837</th>\n",
              "      <td>AQP11</td>\n",
              "      <td>1.069900e+00</td>\n",
              "      <td>5.932970e-01</td>\n",
              "    </tr>\n",
              "    <tr>\n",
              "      <th>56838</th>\n",
              "      <td>OR9N1P</td>\n",
              "      <td>1.765920e-01</td>\n",
              "      <td>1.405500e-01</td>\n",
              "    </tr>\n",
              "  </tbody>\n",
              "</table>\n",
              "<p>56839 rows × 3 columns</p>\n",
              "</div>"
            ],
            "text/plain": [
              "        GENE_NAME          정상세포           암세포\n",
              "0       SNORD121B  1.000000e-08  1.000000e-08\n",
              "1            HTR4  1.000000e-08  6.330350e-03\n",
              "2       SNORD121A  1.000000e-08  1.000000e-08\n",
              "3            HTR6  1.000000e-08  1.968280e-02\n",
              "4            HTR7  2.464120e+00  2.456550e+00\n",
              "...           ...           ...           ...\n",
              "56834  AC113146.1  1.000000e-08  1.000000e-08\n",
              "56835  AC005912.2  5.288690e-02  3.188250e-02\n",
              "56836  AC005912.1  7.473340e+00  1.857000e+00\n",
              "56837       AQP11  1.069900e+00  5.932970e-01\n",
              "56838      OR9N1P  1.765920e-01  1.405500e-01\n",
              "\n",
              "[56839 rows x 3 columns]"
            ]
          },
          "metadata": {
            "tags": []
          },
          "execution_count": 20
        }
      ]
    },
    {
      "cell_type": "code",
      "metadata": {
        "colab": {
          "base_uri": "https://localhost:8080/",
          "height": 419
        },
        "id": "7Mu-qhGNZnhQ",
        "outputId": "c73200e4-e3e5-47a5-d852-58bd20681500"
      },
      "source": [
        "rna.columns = ['gene', 'normal', 'cancer']\r\n",
        "rna['cancer'] = np.log10(rna['cancer'])\r\n",
        "rna['normal'] = np.log10(rna['normal'])\r\n",
        "rna"
      ],
      "execution_count": 21,
      "outputs": [
        {
          "output_type": "execute_result",
          "data": {
            "text/html": [
              "<div>\n",
              "<style scoped>\n",
              "    .dataframe tbody tr th:only-of-type {\n",
              "        vertical-align: middle;\n",
              "    }\n",
              "\n",
              "    .dataframe tbody tr th {\n",
              "        vertical-align: top;\n",
              "    }\n",
              "\n",
              "    .dataframe thead th {\n",
              "        text-align: right;\n",
              "    }\n",
              "</style>\n",
              "<table border=\"1\" class=\"dataframe\">\n",
              "  <thead>\n",
              "    <tr style=\"text-align: right;\">\n",
              "      <th></th>\n",
              "      <th>gene</th>\n",
              "      <th>normal</th>\n",
              "      <th>cancer</th>\n",
              "    </tr>\n",
              "  </thead>\n",
              "  <tbody>\n",
              "    <tr>\n",
              "      <th>0</th>\n",
              "      <td>SNORD121B</td>\n",
              "      <td>-8.000000</td>\n",
              "      <td>-8.000000</td>\n",
              "    </tr>\n",
              "    <tr>\n",
              "      <th>1</th>\n",
              "      <td>HTR4</td>\n",
              "      <td>-8.000000</td>\n",
              "      <td>-2.198572</td>\n",
              "    </tr>\n",
              "    <tr>\n",
              "      <th>2</th>\n",
              "      <td>SNORD121A</td>\n",
              "      <td>-8.000000</td>\n",
              "      <td>-8.000000</td>\n",
              "    </tr>\n",
              "    <tr>\n",
              "      <th>3</th>\n",
              "      <td>HTR6</td>\n",
              "      <td>-8.000000</td>\n",
              "      <td>-1.705913</td>\n",
              "    </tr>\n",
              "    <tr>\n",
              "      <th>4</th>\n",
              "      <td>HTR7</td>\n",
              "      <td>0.391662</td>\n",
              "      <td>0.390326</td>\n",
              "    </tr>\n",
              "    <tr>\n",
              "      <th>...</th>\n",
              "      <td>...</td>\n",
              "      <td>...</td>\n",
              "      <td>...</td>\n",
              "    </tr>\n",
              "    <tr>\n",
              "      <th>56834</th>\n",
              "      <td>AC113146.1</td>\n",
              "      <td>-8.000000</td>\n",
              "      <td>-8.000000</td>\n",
              "    </tr>\n",
              "    <tr>\n",
              "      <th>56835</th>\n",
              "      <td>AC005912.2</td>\n",
              "      <td>-1.276652</td>\n",
              "      <td>-1.496448</td>\n",
              "    </tr>\n",
              "    <tr>\n",
              "      <th>56836</th>\n",
              "      <td>AC005912.1</td>\n",
              "      <td>0.873515</td>\n",
              "      <td>0.268812</td>\n",
              "    </tr>\n",
              "    <tr>\n",
              "      <th>56837</th>\n",
              "      <td>AQP11</td>\n",
              "      <td>0.029343</td>\n",
              "      <td>-0.226728</td>\n",
              "    </tr>\n",
              "    <tr>\n",
              "      <th>56838</th>\n",
              "      <td>OR9N1P</td>\n",
              "      <td>-0.753029</td>\n",
              "      <td>-0.852169</td>\n",
              "    </tr>\n",
              "  </tbody>\n",
              "</table>\n",
              "<p>56839 rows × 3 columns</p>\n",
              "</div>"
            ],
            "text/plain": [
              "             gene    normal    cancer\n",
              "0       SNORD121B -8.000000 -8.000000\n",
              "1            HTR4 -8.000000 -2.198572\n",
              "2       SNORD121A -8.000000 -8.000000\n",
              "3            HTR6 -8.000000 -1.705913\n",
              "4            HTR7  0.391662  0.390326\n",
              "...           ...       ...       ...\n",
              "56834  AC113146.1 -8.000000 -8.000000\n",
              "56835  AC005912.2 -1.276652 -1.496448\n",
              "56836  AC005912.1  0.873515  0.268812\n",
              "56837       AQP11  0.029343 -0.226728\n",
              "56838      OR9N1P -0.753029 -0.852169\n",
              "\n",
              "[56839 rows x 3 columns]"
            ]
          },
          "metadata": {
            "tags": []
          },
          "execution_count": 21
        }
      ]
    },
    {
      "cell_type": "code",
      "metadata": {
        "id": "Oy2ZldZ2XC_7"
      },
      "source": [
        "rna = rna[(rna['cancer'] >= -8) & (rna['normal'] >=-8)]\r\n",
        "rna.reset_index(inplace = True, drop = True)"
      ],
      "execution_count": 22,
      "outputs": []
    },
    {
      "cell_type": "code",
      "metadata": {
        "colab": {
          "base_uri": "https://localhost:8080/",
          "height": 419
        },
        "id": "1cN7bvcScsAT",
        "outputId": "f1258fb2-0bc9-4f28-c768-9800cb8db4db"
      },
      "source": [
        "feature = rna[['normal', 'cancer']]\r\n",
        "feature"
      ],
      "execution_count": 16,
      "outputs": [
        {
          "output_type": "execute_result",
          "data": {
            "text/html": [
              "<div>\n",
              "<style scoped>\n",
              "    .dataframe tbody tr th:only-of-type {\n",
              "        vertical-align: middle;\n",
              "    }\n",
              "\n",
              "    .dataframe tbody tr th {\n",
              "        vertical-align: top;\n",
              "    }\n",
              "\n",
              "    .dataframe thead th {\n",
              "        text-align: right;\n",
              "    }\n",
              "</style>\n",
              "<table border=\"1\" class=\"dataframe\">\n",
              "  <thead>\n",
              "    <tr style=\"text-align: right;\">\n",
              "      <th></th>\n",
              "      <th>normal</th>\n",
              "      <th>cancer</th>\n",
              "    </tr>\n",
              "  </thead>\n",
              "  <tbody>\n",
              "    <tr>\n",
              "      <th>0</th>\n",
              "      <td>-8.000000</td>\n",
              "      <td>-8.000000</td>\n",
              "    </tr>\n",
              "    <tr>\n",
              "      <th>1</th>\n",
              "      <td>-8.000000</td>\n",
              "      <td>-2.198572</td>\n",
              "    </tr>\n",
              "    <tr>\n",
              "      <th>2</th>\n",
              "      <td>-8.000000</td>\n",
              "      <td>-8.000000</td>\n",
              "    </tr>\n",
              "    <tr>\n",
              "      <th>3</th>\n",
              "      <td>-8.000000</td>\n",
              "      <td>-1.705913</td>\n",
              "    </tr>\n",
              "    <tr>\n",
              "      <th>4</th>\n",
              "      <td>0.391662</td>\n",
              "      <td>0.390326</td>\n",
              "    </tr>\n",
              "    <tr>\n",
              "      <th>...</th>\n",
              "      <td>...</td>\n",
              "      <td>...</td>\n",
              "    </tr>\n",
              "    <tr>\n",
              "      <th>56494</th>\n",
              "      <td>-8.000000</td>\n",
              "      <td>-8.000000</td>\n",
              "    </tr>\n",
              "    <tr>\n",
              "      <th>56495</th>\n",
              "      <td>-1.276652</td>\n",
              "      <td>-1.496448</td>\n",
              "    </tr>\n",
              "    <tr>\n",
              "      <th>56496</th>\n",
              "      <td>0.873515</td>\n",
              "      <td>0.268812</td>\n",
              "    </tr>\n",
              "    <tr>\n",
              "      <th>56497</th>\n",
              "      <td>0.029343</td>\n",
              "      <td>-0.226728</td>\n",
              "    </tr>\n",
              "    <tr>\n",
              "      <th>56498</th>\n",
              "      <td>-0.753029</td>\n",
              "      <td>-0.852169</td>\n",
              "    </tr>\n",
              "  </tbody>\n",
              "</table>\n",
              "<p>56499 rows × 2 columns</p>\n",
              "</div>"
            ],
            "text/plain": [
              "         normal    cancer\n",
              "0     -8.000000 -8.000000\n",
              "1     -8.000000 -2.198572\n",
              "2     -8.000000 -8.000000\n",
              "3     -8.000000 -1.705913\n",
              "4      0.391662  0.390326\n",
              "...         ...       ...\n",
              "56494 -8.000000 -8.000000\n",
              "56495 -1.276652 -1.496448\n",
              "56496  0.873515  0.268812\n",
              "56497  0.029343 -0.226728\n",
              "56498 -0.753029 -0.852169\n",
              "\n",
              "[56499 rows x 2 columns]"
            ]
          },
          "metadata": {
            "tags": []
          },
          "execution_count": 16
        }
      ]
    },
    {
      "cell_type": "code",
      "metadata": {
        "id": "ySxt3th8ZnAF"
      },
      "source": [
        "model =  DBSCAN(eps=0.5, min_samples=10)\r\n",
        "predict=pd.DataFrame(model.fit_predict(feature))\r\n",
        "predict.columns=['predict']"
      ],
      "execution_count": 9,
      "outputs": []
    },
    {
      "cell_type": "code",
      "metadata": {
        "colab": {
          "base_uri": "https://localhost:8080/"
        },
        "id": "HVQ1OfnrdgSl",
        "outputId": "7b1a4df5-6863-4050-9fc3-c9e51ce0b0ae"
      },
      "source": [
        "predict['predict'].value_counts()"
      ],
      "execution_count": 10,
      "outputs": [
        {
          "output_type": "execute_result",
          "data": {
            "text/plain": [
              " 0    28423\n",
              " 2    22717\n",
              " 1     3657\n",
              " 3     1609\n",
              "-1       84\n",
              " 4        9\n",
              "Name: predict, dtype: int64"
            ]
          },
          "metadata": {
            "tags": []
          },
          "execution_count": 10
        }
      ]
    },
    {
      "cell_type": "code",
      "metadata": {
        "colab": {
          "base_uri": "https://localhost:8080/"
        },
        "id": "R2vfgc-EdhXa",
        "outputId": "6858167c-c8a0-4f87-b46b-b93a52f43fcc"
      },
      "source": [
        "print(list(rna[predict['predict'] == -1]['gene']))"
      ],
      "execution_count": 25,
      "outputs": [
        {
          "output_type": "stream",
          "text": [
            "['BORCS7-ASMT', 'AC067968.1', 'SNORA50C', 'BIVM-ERCC5', 'HIST1H3J', 'AC078927.1', 'HAPLN4', 'TMEM63C', 'AC091230.1', 'CSPG4P5', 'TGFB2-OT1', 'RUNX1T1', 'SNX29P2', 'ARHGAP19-SLIT1', 'AC006001.4', 'AC008687.1', 'AC008687.7', 'SNORD3D', 'CYP3A7', 'AL121845.2', 'RF02103', 'RF02104', 'KBTBD11-OT1', 'AC008763.3', 'ZFP91-CNTF', 'AL355140.1', 'SDHAP2', 'ARL2-SNX15', 'AP005263.1', 'AC005832.4', 'AL117339.5', 'AC104532.1', 'AF254983.1', 'VN1R82P', 'AC003043.2', 'AC090114.3', 'DNAAF4-CCPG1', 'SPATS1', 'AL022318.4', 'LUZP6', 'AC093899.2', 'AC009487.3', 'AL139352.1', 'RNVU1-14', 'AC011511.4', 'AC034229.2', 'RNU6-476P', 'AC025259.3', 'TERC', 'RF00090', 'RF00019', 'AC104662.2', 'AL121722.1', 'RF00407', 'AC092139.1', 'AC012531.2', 'LINC02085', 'AL355315.1', 'RPSAP41', 'AC068234.1', 'CCR6', 'CDH6', 'RNU6-516P', 'RNU6-513P', 'CGB3', 'AL360267.1', 'GNL3LP1', 'AL031595.3', 'AC087190.3', 'AC097637.1', 'AC010326.2', 'CNR2', 'TSNAX-DISC1', 'AL049795.2', 'AC008695.1', 'RPL12P28', 'AP002748.4', 'MIR4440', 'AC131160.1', 'UGT1A1', 'UGT1A4', 'MIR4737', 'AC011447.1', 'AL034430.1']\n"
          ],
          "name": "stdout"
        }
      ]
    },
    {
      "cell_type": "code",
      "metadata": {
        "colab": {
          "base_uri": "https://localhost:8080/"
        },
        "id": "7TwVhQcEfUWx",
        "outputId": "a722dbb8-4861-4c8a-e613-75e36fe6bc5b"
      },
      "source": [
        "predict['predict'] == -1"
      ],
      "execution_count": 14,
      "outputs": [
        {
          "output_type": "execute_result",
          "data": {
            "text/plain": [
              "0        False\n",
              "1        False\n",
              "2        False\n",
              "3        False\n",
              "4        False\n",
              "         ...  \n",
              "56494    False\n",
              "56495    False\n",
              "56496    False\n",
              "56497    False\n",
              "56498    False\n",
              "Name: predict, Length: 56499, dtype: bool"
            ]
          },
          "metadata": {
            "tags": []
          },
          "execution_count": 14
        }
      ]
    }
  ]
}